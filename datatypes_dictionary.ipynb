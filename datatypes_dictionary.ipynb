{
 "cells": [
  {
   "cell_type": "code",
   "execution_count": 6,
   "metadata": {},
   "outputs": [
    {
     "name": "stdout",
     "output_type": "stream",
     "text": [
      "\n",
      " dictionary------------------------------\n"
     ]
    }
   ],
   "source": [
    "print('\\n dictionary------------------------------')"
   ]
  },
  {
   "cell_type": "code",
   "execution_count": 7,
   "metadata": {},
   "outputs": [
    {
     "name": "stdout",
     "output_type": "stream",
     "text": [
      "{'one': '1 - 菜鸟教程', 2: '2 - 菜鸟工具'}\n",
      "1 - 菜鸟教程\n",
      "2 - 菜鸟工具\n"
     ]
    }
   ],
   "source": [
    "dict = {}\n",
    "dict['one'] = \"1 - 菜鸟教程\"\n",
    "dict[2] = \"2 - 菜鸟工具\"\n",
    "\n",
    "print(dict)\n",
    "print(dict['one'])  # 输出键为 'one' 的值\n",
    "print(dict[2])  # 输出键为 2 的值"
   ]
  },
  {
   "cell_type": "code",
   "execution_count": 8,
   "metadata": {},
   "outputs": [
    {
     "name": "stdout",
     "output_type": "stream",
     "text": [
      "{'name': 'runoob', 'code': 1, 'site': 'www.runoob.com'}\n",
      "dict_keys(['name', 'code', 'site'])\n",
      "dict_values(['runoob', 1, 'www.runoob.com'])\n"
     ]
    }
   ],
   "source": [
    "tinydict = {'name': 'runoob', 'code': 1, 'site': 'www.runoob.com'}\n",
    "print(tinydict)  # 输出完整的字典\n",
    "print(tinydict.keys())  # 输出所有键\n",
    "print(tinydict.values())  # 输出所有值"
   ]
  },
  {
   "cell_type": "code",
   "execution_count": 9,
   "metadata": {},
   "outputs": [
    {
     "name": "stdout",
     "output_type": "stream",
     "text": [
      "runoob\n",
      "1\n",
      "www.runoob.com\n"
     ]
    }
   ],
   "source": [
    "print(tinydict['name'])\n",
    "print(tinydict['code'])\n",
    "print(tinydict['site'])"
   ]
  },
  {
   "cell_type": "code",
   "execution_count": null,
   "metadata": {},
   "outputs": [],
   "source": []
  }
 ],
 "metadata": {
  "kernelspec": {
   "display_name": "Python 3",
   "language": "python",
   "name": "python3"
  },
  "language_info": {
   "codemirror_mode": {
    "name": "ipython",
    "version": 3
   },
   "file_extension": ".py",
   "mimetype": "text/x-python",
   "name": "python",
   "nbconvert_exporter": "python",
   "pygments_lexer": "ipython3",
   "version": "3.6.1"
  }
 },
 "nbformat": 4,
 "nbformat_minor": 2
}
